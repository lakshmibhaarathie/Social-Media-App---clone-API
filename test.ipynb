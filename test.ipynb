{
 "cells": [
  {
   "cell_type": "code",
   "execution_count": 1,
   "metadata": {},
   "outputs": [
    {
     "name": "stdout",
     "output_type": "stream",
     "text": [
      "haha\n"
     ]
    }
   ],
   "source": [
    "print(\"haha\")"
   ]
  },
  {
   "cell_type": "code",
   "execution_count": 2,
   "metadata": {},
   "outputs": [],
   "source": [
    "a = dict()"
   ]
  },
  {
   "cell_type": "code",
   "execution_count": 5,
   "metadata": {},
   "outputs": [],
   "source": [
    "a.update({\"ac\":12})"
   ]
  },
  {
   "cell_type": "code",
   "execution_count": 9,
   "metadata": {},
   "outputs": [],
   "source": [
    "a = \"Insert\""
   ]
  },
  {
   "cell_type": "code",
   "execution_count": 10,
   "metadata": {},
   "outputs": [],
   "source": [
    "b = [(1,2,3), (4,5,6), (7,8,9)]"
   ]
  },
  {
   "cell_type": "code",
   "execution_count": 11,
   "metadata": {},
   "outputs": [
    {
     "name": "stdout",
     "output_type": "stream",
     "text": [
      "Insert (1, 2, 3),  (4, 5, 6),  (7, 8, 9), \n"
     ]
    }
   ],
   "source": [
    "for i in b:\n",
    "    a+=f' {i}, '\n",
    "print(a)"
   ]
  },
  {
   "cell_type": "code",
   "execution_count": 79,
   "metadata": {},
   "outputs": [],
   "source": [
    "import psycopg2\n",
    "from psycopg2.extras import RealDictCursor"
   ]
  },
  {
   "cell_type": "code",
   "execution_count": 107,
   "metadata": {},
   "outputs": [
    {
     "name": "stdout",
     "output_type": "stream",
     "text": [
      "Database connection success...!\n"
     ]
    }
   ],
   "source": [
    "try:\n",
    "    conn = psycopg2.connect(database=\"fastapi\",user=\"postgres\", host=\"localhost\", password=\"sql123\", cursor_factory=RealDictCursor)\n",
    "    cur = conn.cursor()\n",
    "    print(\"Database connection success...!\")\n",
    "except Exception as e:\n",
    "    print(\"Database connection failed...!\")\n",
    "    print(\"error:\", e)"
   ]
  },
  {
   "cell_type": "code",
   "execution_count": 54,
   "metadata": {},
   "outputs": [],
   "source": [
    "cur.execute(\"select * from posts where id={0}\".format(5))"
   ]
  },
  {
   "cell_type": "code",
   "execution_count": 55,
   "metadata": {},
   "outputs": [],
   "source": [
    "a = cur.fetchone()"
   ]
  },
  {
   "cell_type": "code",
   "execution_count": 56,
   "metadata": {},
   "outputs": [
    {
     "ename": "AttributeError",
     "evalue": "'tuple' object has no attribute 'items'",
     "output_type": "error",
     "traceback": [
      "\u001b[1;31m---------------------------------------------------------------------------\u001b[0m",
      "\u001b[1;31mAttributeError\u001b[0m                            Traceback (most recent call last)",
      "Cell \u001b[1;32mIn[56], line 1\u001b[0m\n\u001b[1;32m----> 1\u001b[0m \u001b[39mfor\u001b[39;00m i,j \u001b[39min\u001b[39;00m a\u001b[39m.\u001b[39;49mitems():\n\u001b[0;32m      2\u001b[0m     \u001b[39mprint\u001b[39m(i, j)\n",
      "\u001b[1;31mAttributeError\u001b[0m: 'tuple' object has no attribute 'items'"
     ]
    }
   ],
   "source": [
    "for i,j in a.items():\n",
    "    print(i, j)"
   ]
  },
  {
   "cell_type": "code",
   "execution_count": 57,
   "metadata": {},
   "outputs": [
    {
     "data": {
      "text/plain": [
       "(5,\n",
       " 'post_verify',\n",
       " 'haha...Naan vizhlven endru ninaithayo...!',\n",
       " True,\n",
       " datetime.datetime(2022, 11, 12, 18, 1, 20, 129488),\n",
       " 4)"
      ]
     },
     "execution_count": 57,
     "metadata": {},
     "output_type": "execute_result"
    }
   ],
   "source": [
    "a"
   ]
  },
  {
   "cell_type": "code",
   "execution_count": 45,
   "metadata": {},
   "outputs": [
    {
     "data": {
      "text/plain": [
       "psycopg2.extras.RealDictRow"
      ]
     },
     "execution_count": 45,
     "metadata": {},
     "output_type": "execute_result"
    }
   ],
   "source": [
    "type(a)"
   ]
  },
  {
   "cell_type": "code",
   "execution_count": 49,
   "metadata": {},
   "outputs": [
    {
     "data": {
      "text/plain": [
       "odict_items([('id', 5), ('title', 'post_verify'), ('content', 'haha...Naan vizhlven endru ninaithayo...!'), ('published', True), ('created_at', datetime.datetime(2022, 11, 12, 18, 1, 20, 129488)), ('user_id', 4)])"
      ]
     },
     "execution_count": 49,
     "metadata": {},
     "output_type": "execute_result"
    }
   ],
   "source": [
    "a.items()"
   ]
  },
  {
   "cell_type": "code",
   "execution_count": 58,
   "metadata": {},
   "outputs": [
    {
     "ename": "TypeError",
     "evalue": "cannot convert dictionary update sequence element #0 to a sequence",
     "output_type": "error",
     "traceback": [
      "\u001b[1;31m---------------------------------------------------------------------------\u001b[0m",
      "\u001b[1;31mTypeError\u001b[0m                                 Traceback (most recent call last)",
      "Cell \u001b[1;32mIn[58], line 1\u001b[0m\n\u001b[1;32m----> 1\u001b[0m \u001b[39mdict\u001b[39;49m(a)\n",
      "\u001b[1;31mTypeError\u001b[0m: cannot convert dictionary update sequence element #0 to a sequence"
     ]
    }
   ],
   "source": [
    "dict(a)"
   ]
  },
  {
   "cell_type": "code",
   "execution_count": 59,
   "metadata": {},
   "outputs": [
    {
     "data": {
      "text/plain": [
       "(5,\n",
       " 'post_verify',\n",
       " 'haha...Naan vizhlven endru ninaithayo...!',\n",
       " True,\n",
       " datetime.datetime(2022, 11, 12, 18, 1, 20, 129488),\n",
       " 4)"
      ]
     },
     "execution_count": 59,
     "metadata": {},
     "output_type": "execute_result"
    }
   ],
   "source": [
    "a"
   ]
  },
  {
   "cell_type": "code",
   "execution_count": 108,
   "metadata": {},
   "outputs": [],
   "source": [
    "tuple_list = [(\"1\",\"ahah\",True,4), (\"3\", \"haha\",False,4)]"
   ]
  },
  {
   "cell_type": "code",
   "execution_count": 109,
   "metadata": {},
   "outputs": [],
   "source": [
    "arg = \", \".join(cur.mogrify(\"(%s,%s,%s, %s)\", x).decode(\"utf-8\") for x in tuple_list)"
   ]
  },
  {
   "cell_type": "code",
   "execution_count": 110,
   "metadata": {},
   "outputs": [],
   "source": [
    "b = cur.execute(\"insert into posts (title, content, published, user_id) values \" + arg)"
   ]
  },
  {
   "cell_type": "code",
   "execution_count": 111,
   "metadata": {},
   "outputs": [
    {
     "ename": "ProgrammingError",
     "evalue": "can't execute an empty query",
     "output_type": "error",
     "traceback": [
      "\u001b[1;31m---------------------------------------------------------------------------\u001b[0m",
      "\u001b[1;31mProgrammingError\u001b[0m                          Traceback (most recent call last)",
      "Cell \u001b[1;32mIn[111], line 1\u001b[0m\n\u001b[1;32m----> 1\u001b[0m \u001b[39mprint\u001b[39m(cur\u001b[39m.\u001b[39;49mmogrify(b))\n",
      "\u001b[1;31mProgrammingError\u001b[0m: can't execute an empty query"
     ]
    }
   ],
   "source": [
    "print(cur.mogrify(b))"
   ]
  },
  {
   "cell_type": "code",
   "execution_count": 102,
   "metadata": {},
   "outputs": [],
   "source": [
    "cur.execute(\"select * from posts;\")"
   ]
  },
  {
   "cell_type": "code",
   "execution_count": 103,
   "metadata": {},
   "outputs": [
    {
     "data": {
      "text/plain": [
       "[RealDictRow([('id', 5),\n",
       "              ('title', 'post_verify'),\n",
       "              ('content', 'haha...Naan vizhlven endru ninaithayo...!'),\n",
       "              ('published', True),\n",
       "              ('created_at',\n",
       "               datetime.datetime(2022, 11, 12, 18, 1, 20, 129488)),\n",
       "              ('user_id', 4)]),\n",
       " RealDictRow([('id', 6),\n",
       "              ('title', 'asdd'),\n",
       "              ('content', ' sd dsc'),\n",
       "              ('published', True),\n",
       "              ('created_at',\n",
       "               datetime.datetime(2022, 11, 12, 18, 14, 37, 150244)),\n",
       "              ('user_id', 1)]),\n",
       " RealDictRow([('id', 12),\n",
       "              ('title', '1'),\n",
       "              ('content', 'ahah'),\n",
       "              ('published', True),\n",
       "              ('created_at', datetime.datetime(2023, 4, 2, 12, 3, 28, 179489)),\n",
       "              ('user_id', 4)]),\n",
       " RealDictRow([('id', 13),\n",
       "              ('title', '3'),\n",
       "              ('content', 'haha'),\n",
       "              ('published', False),\n",
       "              ('created_at', datetime.datetime(2023, 4, 2, 12, 3, 28, 179489)),\n",
       "              ('user_id', 4)])]"
      ]
     },
     "execution_count": 103,
     "metadata": {},
     "output_type": "execute_result"
    }
   ],
   "source": [
    "cur.fetchall()"
   ]
  },
  {
   "cell_type": "code",
   "execution_count": 112,
   "metadata": {},
   "outputs": [
    {
     "data": {
      "text/plain": [
       "'80'"
      ]
     },
     "execution_count": 112,
     "metadata": {},
     "output_type": "execute_result"
    }
   ],
   "source": [
    "str(80)"
   ]
  },
  {
   "cell_type": "code",
   "execution_count": null,
   "metadata": {},
   "outputs": [],
   "source": []
  }
 ],
 "metadata": {
  "kernelspec": {
   "display_name": "venv",
   "language": "python",
   "name": "python3"
  },
  "language_info": {
   "codemirror_mode": {
    "name": "ipython",
    "version": 3
   },
   "file_extension": ".py",
   "mimetype": "text/x-python",
   "name": "python",
   "nbconvert_exporter": "python",
   "pygments_lexer": "ipython3",
   "version": "3.9.13"
  },
  "orig_nbformat": 4
 },
 "nbformat": 4,
 "nbformat_minor": 2
}
